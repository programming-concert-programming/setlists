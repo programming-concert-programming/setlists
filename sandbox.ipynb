{
 "cells": [
  {
   "cell_type": "markdown",
   "id": "cbad6136-196d-4e69-8958-cbe821e94f52",
   "metadata": {},
   "source": [
    "## Sandbox for setlist repo"
   ]
  },
  {
   "cell_type": "markdown",
   "id": "891c3fc2-186b-4c3a-8c0c-21385dcbc3eb",
   "metadata": {},
   "source": [
    "## Workspace"
   ]
  },
  {
   "cell_type": "code",
   "execution_count": null,
   "id": "197026ac-5d9b-4170-8495-f5e8698fa775",
   "metadata": {},
   "outputs": [],
   "source": []
  },
  {
   "cell_type": "code",
   "execution_count": null,
   "id": "356d7905-f193-432e-8645-bda1ec33f676",
   "metadata": {},
   "outputs": [],
   "source": []
  },
  {
   "cell_type": "markdown",
   "id": "e5340f8d-e347-426d-8ca0-cdac22b8d3aa",
   "metadata": {},
   "source": [
    "## Reference Solutions"
   ]
  },
  {
   "cell_type": "code",
   "execution_count": null,
   "id": "fa2ad838-3309-433f-909a-03a3cb388150",
   "metadata": {},
   "outputs": [],
   "source": [
    "# To get started:\n",
    "import setlistfm_events_api"
   ]
  },
  {
   "cell_type": "code",
   "execution_count": null,
   "id": "acfc62c5-a9f2-449e-b0eb-60c071d680b0",
   "metadata": {},
   "outputs": [],
   "source": [
    "event_id = \"138955b1\"\n",
    "api_key = \"preferably put your key in `utils`; failing that, put it here and add it as an argument in the next line\"\n",
    "a = setlistfm_events_api.get_event_data(event_id)"
   ]
  }
 ],
 "metadata": {
  "kernelspec": {
   "display_name": "Python 3 (ipykernel)",
   "language": "python",
   "name": "python3"
  },
  "language_info": {
   "codemirror_mode": {
    "name": "ipython",
    "version": 3
   },
   "file_extension": ".py",
   "mimetype": "text/x-python",
   "name": "python",
   "nbconvert_exporter": "python",
   "pygments_lexer": "ipython3",
   "version": "3.12.7"
  }
 },
 "nbformat": 4,
 "nbformat_minor": 5
}
